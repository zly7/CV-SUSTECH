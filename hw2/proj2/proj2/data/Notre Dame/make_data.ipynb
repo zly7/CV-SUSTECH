{
 "cells": [
  {
   "cell_type": "code",
   "execution_count": 7,
   "metadata": {},
   "outputs": [],
   "source": [
    "# 921919841_a30df938f2_o_to_4191453057_c86028ce1f_o.pkl\n",
    "import scipy.io as sio\n",
    "\n",
    "yFile = './921919841_a30df938f2_o_to_4191453057_c86028ce1f_o.mat'    #相对路径\n",
    "d=sio.loadmat(yFile)"
   ]
  },
  {
   "cell_type": "code",
   "execution_count": null,
   "metadata": {},
   "outputs": [],
   "source": [
    "print(d)"
   ]
  },
  {
   "cell_type": "code",
   "execution_count": 10,
   "metadata": {},
   "outputs": [],
   "source": [
    "import pickle\n",
    "f_handle = open(\"./921919841_a30df938f2_o_to_4191453057_c86028ce1f_o.pkl\",\"wb+\") # 莫名其妙加上./和wb+就正确了\n",
    "pickle.dump(d,f_handle)"
   ]
  }
 ],
 "metadata": {
  "interpreter": {
   "hash": "87ba91c33c6639f25c54081da40398596a10d2b9db075504396b2ceb7bb6f852"
  },
  "kernelspec": {
   "display_name": "Python 3.9.12 ('AISUSTECH')",
   "language": "python",
   "name": "python3"
  },
  "language_info": {
   "codemirror_mode": {
    "name": "ipython",
    "version": 3
   },
   "file_extension": ".py",
   "mimetype": "text/x-python",
   "name": "python",
   "nbconvert_exporter": "python",
   "pygments_lexer": "ipython3",
   "version": "3.9.12"
  },
  "orig_nbformat": 4
 },
 "nbformat": 4,
 "nbformat_minor": 2
}
